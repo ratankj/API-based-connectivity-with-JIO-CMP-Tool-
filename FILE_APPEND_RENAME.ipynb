{
 "cells": [
  {
   "cell_type": "code",
   "execution_count": 2,
   "metadata": {},
   "outputs": [],
   "source": [
    "import pandas as pd\n",
    "import os\n",
    "import shutil"
   ]
  },
  {
   "cell_type": "code",
   "execution_count": 11,
   "metadata": {},
   "outputs": [],
   "source": [
    "# CREATEING FOLDER\n",
    "import os\n",
    "\n",
    "def create_folders(base_path, *folder_names):\n",
    "    for folder_name in folder_names:\n",
    "        new_folder_path = os.path.join(base_path, folder_name)\n",
    "        os.makedirs(new_folder_path, exist_ok=True)\n",
    "\n",
    "# Usage\n",
    "base_path = r\"C:\\Users\\Ratan Kumar Jha\\Desktop\\MAIL_AUTO_DATA_DOWNLOAD\"\n",
    "folder_names = [\"SIM_LATCH_FILE\", \"OUTAGE_REPORT\", \"CONSOLIDATED_CONSUMPTION_DATA\"]\n",
    "create_folders(base_path, *folder_names)\n"
   ]
  },
  {
   "cell_type": "code",
   "execution_count": 7,
   "metadata": {},
   "outputs": [],
   "source": [
    "file_path = r\"C:\\Users\\Ratan Kumar Jha\\Desktop\\MAIL_AUTO_DATA_DOWNLOAD\\DATA\"\n",
    "os.chdir(file_path) "
   ]
  },
  {
   "cell_type": "code",
   "execution_count": 15,
   "metadata": {},
   "outputs": [
    {
     "name": "stdout",
     "output_type": "stream",
     "text": [
      "IOT_9200852662_9070543408-ENERGY_EFFICIENCY_SERVICES_LIMITED_20240731_Data_Session_Count_Report.zip\n",
      "IOT_9200852662_9071004763-Bli2_Energy_Efficiency_Services_Limited_20240731_Data_Session_Count_Report.zip\n",
      "IOT_9200852662_9071005189-Bli3_Energy_Efficiency_Services_Limited_20240731_Data_Session_Count_Report.zip\n",
      "IOT_9200852662_9071005340-Bli4_Energy_Efficiency_Services_Limited_20240731_Data_Session_Count_Report.zip\n",
      "IOT_9200852662_9071005641-Bli6_Energy_Efficiency_Services_Limited_20240731_Data_Session_Count_Report.zip\n",
      "IOT_9200852662_9071008753-BLI7_ENERGY_EFFICIENCY_SERVICES_LIMITED_20240731_Data_Session_Count_Report.zip\n",
      "IOT_9200852662_9071123851-BLI8_ENERGY_EFFICIENCY_SERVICES_LIMITED_20240731_Data_Session_Count_Report.zip\n",
      "IOT_9200852662_9071237808-BLI9_ENERGY_EFFICIENCY_SERVICES_LIMITED_20240731_Data_Session_Count_Report.zip\n",
      "IOT_9200852662_9071354843-BLI10_ENERGY_EFFICIENCY_SERVICES_LIMITED_20240731_Data_Session_Count_Report.zip\n",
      "IOT_9200852662_9071492868-BLI11_ENERGY_EFFICIENCY_SERVICES_LIMITED_20240731_Data_Session_Count_Report.zip\n",
      "IOT_9200852662_9071602312-BLI12_ENERGY_EFFICIENCY_SERVICES_LIMITED_20240731_Data_Session_Count_Report.zip\n",
      "IOT_9200852662_9071666683-BLI13_ENERGY_EFFICIENCY_SERVICES_LIMITED_20240731_Data_Session_Count_Report.zip\n",
      "IOT_9200852662_9071790199-BLI14_ENERGY_EFFICIENCY_SERVICES_LIMITED_20240731_Data_Session_Count_Report.zip\n",
      "IOT_9200852662_9071932262-BLI15-ENERGY_EFFICIENCY_SERVICES_LIMITED__________________________BIHAR_20240731_Data_Session_Count_Report.zip\n",
      "IOT_9200852662_9072104999-Bli_21_Energy_Efficiency_Services_Limited_20240731_Data_Session_Count_Report.zip\n",
      "IOT_9200852662_9072105004-Bli_22_Energy_Efficiency_Services_Limited_20240731_Data_Session_Count_Report.zip\n",
      "IOT_9200852662_9072105005-Bli_23_Energy_Efficiency_Services_Limited_20240731_Data_Session_Count_Report.zip\n",
      "IOT_9200852662_9072107037-Bli_24_Energy_Efficiency_Services_Limited_20240731_Data_Session_Count_Report.zip\n",
      "IOT_9200852662_9072109836-Bli_25_Energy_Efficiency_Services_Limited_20240731_Data_Session_Count_Report.zip\n",
      "IOT_9200852662_9072109840-Bli_26_Energy_Efficiency_Services_Limited_20240731_Data_Session_Count_Report.zip\n",
      "IOT_9200852662_9072109842-Bli_27_Energy_Efficiency_Services_Limited_20240731_Data_Session_Count_Report.zip\n",
      "IOT_9200852662_9072110124-Bli_28_Energy_Efficiency_Services_Limited_20240731_Data_Session_Count_Report.zip\n",
      "IOT_9200852662_9072110125-Bli_29_Energy_Efficiency_Services_Limited_20240731_Data_Session_Count_Report.zip\n",
      "IOT_9200852662_9072110126-Bli_30_Energy_Efficiency_Services_Limited_20240731_Data_Session_Count_Report.zip\n",
      "IOT_9200852662_9072110127-Bli_31_Energy_Efficiency_Services_Limited_20240731_Data_Session_Count_Report.zip\n",
      "IOT_9200852662_9072134685-Bli_33_Energy_Efficiency_Services_Limited_20240731_Data_Session_Count_Report.zip\n",
      "IOT_9200852662_9072134687-Bli_34_Energy_Efficiency_Services_Limited_20240731_Data_Session_Count_Report.zip\n",
      "IOT_9200852662_9072135621-Bli_36_Energy_Efficiency_Services_Limited_20240731_Data_Session_Count_Report.zip\n",
      "IOT_9200852662_9072135622-Bli_37_Energy_Efficiency_Services_Limited_20240731_Data_Session_Count_Report.zip\n",
      "IOT_9200852662_9072135625-Bli_38_Energy_Efficiency_Services_Limited_20240731_Data_Session_Count_Report.zip\n",
      "IOT_9200852662_9072135629-Bli_39_Energy_Efficiency_Services_Limited_20240731_Data_Session_Count_Report.zip\n",
      "IOT_9200852662_9072136665-Bli_40_Energy_Efficiency_Services_Limited_20240731_Data_Session_Count_Report.zip\n",
      "IOT_9200852662_9072136667-Bli_41_Energy_Efficiency_Services_Limited_20240731_Data_Session_Count_Report.zip\n",
      "IOT_9200852662_9072136878-Bli_42_Energy_Efficiency_Services_Limited_20240731_Data_Session_Count_Report.zip\n",
      "IOT_9200852662_9072137078-Bli_43_Energy_Efficiency_Services_Limited_20240731_Data_Session_Count_Report.zip\n",
      "IOT_9200852662_9072137079-Bli_44_Energy_Efficiency_Services_Limited_20240731_Data_Session_Count_Report.zip\n",
      "IOT_9200852662_9072137082-Bli_45_Energy_Efficiency_Services_Limited_20240731_Data_Session_Count_Report.zip\n",
      "IOT_9200852662_9072137213-Bli_46_Energy_Efficiency_Services_Limited_20240731_Data_Session_Count_Report.zip\n",
      "IOT_9200852662_9072137215-Bli_47_Energy_Efficiency_Services_Limited_20240731_Data_Session_Count_Report.zip\n",
      "IOT_9200852662_9072137217-Bli_48_Energy_Efficiency_Services_Limited_20240731_Data_Session_Count_Report.zip\n",
      "IOT_9200852662_9072137220-Bli_49_Energy_Efficiency_Services_Limited_20240731_Data_Session_Count_Report.zip\n",
      "IOT_9200852662_9201565186-ENERGY_EFFICIENCY_SERVICES_LIMITED__WBIO___T_20240731_Data_Session_Count_Report.zip\n"
     ]
    }
   ],
   "source": [
    "\n",
    "import zipfile\n",
    "import os\n",
    "\n",
    "zip_file_path = r'C:\\Users\\Ratan Kumar Jha\\Desktop\\MAIL_AUTO_DATA_DOWNLOAD\\DATA'\n",
    "os.chdir(zip_file_path) \n",
    "output_folder_path = r'C:\\Users\\Ratan Kumar Jha\\Desktop\\MAIL_AUTO_DATA_DOWNLOAD\\EXTRACT_ZIP_DATA'\n",
    "\n",
    "for file in os.listdir(file_path):\n",
    "    if file[-3:] == 'zip':\n",
    "        print(file)\n",
    "        folder_file_path = os.path.join(zip_file_path, file)\n",
    "        #print(folder_file_path)\n",
    "        with zipfile.ZipFile(folder_file_path, 'r') as zip_ref:\n",
    "            zip_ref.extractall(output_folder_path)\n",
    "        \n",
    "        "
   ]
  },
  {
   "cell_type": "code",
   "execution_count": null,
   "metadata": {},
   "outputs": [],
   "source": []
  },
  {
   "cell_type": "code",
   "execution_count": null,
   "metadata": {},
   "outputs": [],
   "source": []
  },
  {
   "cell_type": "markdown",
   "metadata": {},
   "source": [
    "## READ CSV FILE"
   ]
  },
  {
   "cell_type": "code",
   "execution_count": 18,
   "metadata": {},
   "outputs": [
    {
     "name": "stdout",
     "output_type": "stream",
     "text": [
      "IOT_9200852662_9070543408-ENERGY_EFFICIENCY_SERVICES_LIMITED_20240731_Data_Session_Count_Report.csv\n",
      "              Date              APN Name                ICCID  \\\n",
      "0       2024-07-30  jiowbiot.edfeesl.com  8991856050706029109   \n",
      "1       2024-07-30  jiowbiot.edfeesl.com  8991856050706029110   \n",
      "2       2024-07-30  jiowbiot.edfeesl.com  8991856050706029136   \n",
      "3       2024-07-30  jiowbiot.edfeesl.com  8991856050706029137   \n",
      "4       2024-07-30  jiowbiot.edfeesl.com  8991856050706029148   \n",
      "...            ...                   ...                  ...   \n",
      "373724  2024-07-30  jiowbiot.edfeesl.com  8991856050706025136   \n",
      "373725  2024-07-30  jiowbiot.edfeesl.com  8991856050706025168   \n",
      "373726  2024-07-30  jiowbiot.edfeesl.com  8991856050706029044   \n",
      "373727  2024-07-30  jiowbiot.edfeesl.com  8991856050706025140   \n",
      "373728  2024-07-30  jiowbiot.edfeesl.com  8991856050706014883   \n",
      "\n",
      "                   IMSI         MSISDN  SIM ALIAS Session Start time  \\\n",
      "0       405856706029109  5753020024090        NaN           00:00:00   \n",
      "1       405856706029110  5753020024091        NaN           00:00:00   \n",
      "2       405856706029136  5753020024106        NaN           00:00:00   \n",
      "3       405856706029137  5753020024105        NaN           00:00:00   \n",
      "4       405856706029148  5753020024087        NaN           00:00:00   \n",
      "...                 ...            ...        ...                ...   \n",
      "373724  405856706025136  5753020029242        NaN           23:59:54   \n",
      "373725  405856706025168  5753020029243        NaN           23:59:54   \n",
      "373726  405856706029044  5753020029608        NaN           23:59:54   \n",
      "373727  405856706025140  5753020029246        NaN           23:59:56   \n",
      "373728  405856706014883  5753020029358        NaN           23:59:57   \n",
      "\n",
      "        Session Duration(seconds)                  PLAN NAME  UPLOAD(MB)  \\\n",
      "0                               0  WBIoT_4.40_EESL_50MB_5SMS    0.002880   \n",
      "1                               0  WBIoT_4.40_EESL_50MB_5SMS    0.002850   \n",
      "2                               0  WBIoT_4.40_EESL_50MB_5SMS    0.002320   \n",
      "3                               0  WBIoT_4.40_EESL_50MB_5SMS    0.001636   \n",
      "4                               0  WBIoT_4.40_EESL_50MB_5SMS    0.002385   \n",
      "...                           ...                        ...         ...   \n",
      "373724                          0  WBIoT_4.40_EESL_50MB_5SMS    0.001079   \n",
      "373725                          0  WBIoT_4.40_EESL_50MB_5SMS    0.001742   \n",
      "373726                          0  WBIoT_4.40_EESL_50MB_5SMS    0.002954   \n",
      "373727                          0  WBIoT_4.40_EESL_50MB_5SMS    0.006303   \n",
      "373728                          0  WBIoT_4.40_EESL_50MB_5SMS    0.004366   \n",
      "\n",
      "        DOWNLOAD(MB)  TOTAL(MB)  \n",
      "0           0.002686   0.005566  \n",
      "1           0.002132   0.004982  \n",
      "2           0.001873   0.004193  \n",
      "3           0.001400   0.003036  \n",
      "4           0.002003   0.004388  \n",
      "...              ...        ...  \n",
      "373724      0.000973   0.002051  \n",
      "373725      0.001518   0.003261  \n",
      "373726      0.002441   0.005396  \n",
      "373727      0.005669   0.011971  \n",
      "373728      0.003960   0.008326  \n",
      "\n",
      "[373729 rows x 12 columns]\n"
     ]
    }
   ],
   "source": [
    "Data_path = r'C:\\Users\\Ratan Kumar Jha\\Desktop\\MAIL_AUTO_DATA_DOWNLOAD\\EXTRACT_ZIP_DATA\\xls'\n",
    "os.chdir(Data_path)\n",
    "for file in os.listdir(Data_path):\n",
    "    print(file)\n",
    "    File_path = os.path.join(Data_path, file)\n",
    "    read_data_csv = pd.read_csv(File_path)\n",
    "    print(read_data_csv)\n",
    "    break\n",
    "    "
   ]
  },
  {
   "cell_type": "code",
   "execution_count": null,
   "metadata": {},
   "outputs": [],
   "source": []
  },
  {
   "cell_type": "markdown",
   "metadata": {},
   "source": [
    "# move one file from one folder to other folder"
   ]
  },
  {
   "cell_type": "code",
   "execution_count": null,
   "metadata": {},
   "outputs": [],
   "source": [
    "import os\n",
    "import shutil\n",
    "\n",
    "file_path = r'C:\\Users\\Ratan Kumar Jha\\Desktop\\BILLING_REQUEST_AND_REPLY\\DOWNLOAD FROM FTP'\n",
    "output_path = r'C:\\Users\\Ratan Kumar Jha\\Desktop\\MAIL_AUTO_DATA_DOWNLOAD\\CONSOLIDATED_CONSUMPTION_DATA'\n",
    "\n",
    "for file in os.listdir(file_path):\n",
    "    if file[17:23] == '202407':\n",
    "        full_file_path = os.path.join(file_path, file)\n",
    "        shutil.move(full_file_path, output_path)\n",
    "        print(f\"Moved: {file}\")\n"
   ]
  }
 ],
 "metadata": {
  "kernelspec": {
   "display_name": "Python 3",
   "language": "python",
   "name": "python3"
  },
  "language_info": {
   "codemirror_mode": {
    "name": "ipython",
    "version": 3
   },
   "file_extension": ".py",
   "mimetype": "text/x-python",
   "name": "python",
   "nbconvert_exporter": "python",
   "pygments_lexer": "ipython3",
   "version": "3.9.19"
  }
 },
 "nbformat": 4,
 "nbformat_minor": 2
}

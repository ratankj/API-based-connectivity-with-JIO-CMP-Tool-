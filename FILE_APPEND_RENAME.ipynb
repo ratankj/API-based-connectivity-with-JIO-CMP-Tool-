{
 "cells": [
  {
   "cell_type": "code",
   "execution_count": 3,
   "metadata": {},
   "outputs": [],
   "source": [
    "import pandas as pd\n",
    "import os\n",
    "import shutil"
   ]
  },
  {
   "cell_type": "code",
   "execution_count": 11,
   "metadata": {},
   "outputs": [],
   "source": [
    "# CREATEING FOLDER\n",
    "import os\n",
    "\n",
    "def create_folders(base_path, *folder_names):\n",
    "    for folder_name in folder_names:\n",
    "        new_folder_path = os.path.join(base_path, folder_name)\n",
    "        os.makedirs(new_folder_path, exist_ok=True)\n",
    "\n",
    "# Usage\n",
    "base_path = r\"C:\\Users\\Ratan Kumar Jha\\Desktop\\MAIL_AUTO_DATA_DOWNLOAD\"\n",
    "folder_names = [\"SIM_LATCH_FILE\", \"OUTAGE_REPORT\", \"CONSOLIDATED_CONSUMPTION_DATA\"]\n",
    "create_folders(base_path, *folder_names)\n"
   ]
  },
  {
   "cell_type": "code",
   "execution_count": 7,
   "metadata": {},
   "outputs": [],
   "source": [
    "file_path = r\"C:\\Users\\Ratan Kumar Jha\\Desktop\\MAIL_AUTO_DATA_DOWNLOAD\\DATA\"\n",
    "os.chdir(file_path) "
   ]
  },
  {
   "cell_type": "code",
   "execution_count": 17,
   "metadata": {},
   "outputs": [
    {
     "name": "stdout",
     "output_type": "stream",
     "text": [
      "IOT_9200852662_9071354843_20240523_Consolidated_Data_Usage 2.zip\n",
      "IOT_9200852662_9072110127_20240523_Consolidated_Data_Usage.zip\n",
      "IOT_9200852662_9072135622_20240523_Consolidated_Data_Usage.zip\n",
      "IOT_9200852662_9201565186_20240517_Consolidated_Data_Usage.zip\n"
     ]
    }
   ],
   "source": [
    "consumption_output_path = r'C:\\Users\\Ratan Kumar Jha\\Desktop\\MAIL_AUTO_DATA_DOWNLOAD\\CONSOLIDATED_CONSUMPTION_DATA'\n",
    "\n",
    "for file in os.listdir(file_path):\n",
    "    if file[-3:] == 'zip':\n",
    "        print(file)"
   ]
  },
  {
   "cell_type": "code",
   "execution_count": null,
   "metadata": {},
   "outputs": [],
   "source": [
    "import os\n",
    "import shutil\n",
    "\n",
    "file_path = r'C:\\Users\\Ratan Kumar Jha\\Desktop\\BILLING_REQUEST_AND_REPLY\\DOWNLOAD FROM FTP'\n",
    "output_path = r'C:\\Users\\Ratan Kumar Jha\\Desktop\\MAIL_AUTO_DATA_DOWNLOAD\\CONSOLIDATED_CONSUMPTION_DATA'\n",
    "\n",
    "for file in os.listdir(file_path):\n",
    "    if file[17:23] == '202407':\n",
    "        full_file_path = os.path.join(file_path, file)\n",
    "        shutil.move(full_file_path, output_path)\n",
    "        print(f\"Moved: {file}\")\n"
   ]
  }
 ],
 "metadata": {
  "kernelspec": {
   "display_name": "Python 3",
   "language": "python",
   "name": "python3"
  },
  "language_info": {
   "codemirror_mode": {
    "name": "ipython",
    "version": 3
   },
   "file_extension": ".py",
   "mimetype": "text/x-python",
   "name": "python",
   "nbconvert_exporter": "python",
   "pygments_lexer": "ipython3",
   "version": "3.9.19"
  }
 },
 "nbformat": 4,
 "nbformat_minor": 2
}

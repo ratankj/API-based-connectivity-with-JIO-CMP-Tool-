{
 "cells": [
  {
   "cell_type": "code",
   "execution_count": 2,
   "metadata": {},
   "outputs": [],
   "source": [
    "import pandas as pd\n",
    "import numpy as np\n",
    "import os\n",
    "import win32com.client"
   ]
  },
  {
   "cell_type": "code",
   "execution_count": null,
   "metadata": {},
   "outputs": [],
   "source": []
  },
  {
   "cell_type": "code",
   "execution_count": null,
   "metadata": {},
   "outputs": [],
   "source": []
  },
  {
   "cell_type": "code",
   "execution_count": null,
   "metadata": {},
   "outputs": [],
   "source": []
  },
  {
   "cell_type": "markdown",
   "metadata": {},
   "source": [
    "# code"
   ]
  },
  {
   "cell_type": "code",
   "execution_count": 8,
   "metadata": {},
   "outputs": [
    {
     "name": "stdout",
     "output_type": "stream",
     "text": [
      "Sender email: /O=EXCHANGELABS/OU=EXCHANGE ADMINISTRATIVE GROUP (FYDIBOHF23SPDLT)/CN=RECIPIENTS/CN=9D1930D485AF4D0DBF56C07B289000FC-2739C1E2-77\n",
      "LIST OF TABLE NAME.xlsx\n",
      "DOWNLOAD:-  Attachment LIST OF TABLE NAME.xlsx from test mail saved.\n",
      "image001.gif\n",
      "Sender email: /O=EXCHANGELABS/OU=EXCHANGE ADMINISTRATIVE GROUP (FYDIBOHF23SPDLT)/CN=RECIPIENTS/CN=9D1930D485AF4D0DBF56C07B289000FC-2739C1E2-77\n",
      "image002.gif\n",
      "image003.png\n",
      "Sender email: /O=EXCHANGELABS/OU=EXCHANGE ADMINISTRATIVE GROUP (FYDIBOHF23SPDLT)/CN=RECIPIENTS/CN=9D1930D485AF4D0DBF56C07B289000FC-2739C1E2-77\n",
      "LIST OF TABLE NAME.xlsx\n",
      "DOWNLOAD:-  Attachment LIST OF TABLE NAME.xlsx from test mail saved.\n",
      "image001.gif\n",
      "Sender email: /O=EXCHANGELABS/OU=EXCHANGE ADMINISTRATIVE GROUP (FYDIBOHF23SPDLT)/CN=RECIPIENTS/CN=9D1930D485AF4D0DBF56C07B289000FC-2739C1E2-77\n",
      "DBA_HIST_SYSMETRIC_SUMMARY- 06 june.xlsx\n",
      "DOWNLOAD:-  Attachment DBA_HIST_SYSMETRIC_SUMMARY- 06 june.xlsx from Excel attachment Test saved.\n",
      "image001.gif\n"
     ]
    }
   ],
   "source": [
    "import os\n",
    "import win32com.client\n",
    "\n",
    "def save_attachments_from_specific_sender(folder_name, save_path, sender_email):\n",
    "    # Create Outlook application object\n",
    "    outlook = win32com.client.Dispatch(\"Outlook.Application\").GetNamespace(\"MAPI\")\n",
    "    # Access the account\n",
    "    account = outlook.Folders.Item(\"ratan.jha@edfin-india.com\")\n",
    "    # Select the folder within the account\n",
    "    inbox = account.Folders.Item(\"Data connectivity\")\n",
    "    \n",
    "    messages = inbox.Items\n",
    "\n",
    "    # Loop through messages\n",
    "    for message in messages:\n",
    "        if message.Class == 43:  # 43 indicates a Mail Item\n",
    "            try:\n",
    "                sender_email_address = message.SenderEmailAddress\n",
    "            except AttributeError:\n",
    "                try:\n",
    "                    sender_email_address = message.Sender.Address\n",
    "                except AttributeError:\n",
    "                    print(\"Sender email address not found.\")\n",
    "                    continue\n",
    "            print(f\"Sender email: {sender_email_address}\")\n",
    "\n",
    "            if sender_email_address.lower() == sender_email.lower():\n",
    "                attachments = message.Attachments\n",
    "                for attachment in attachments:\n",
    "                    # Check attachment file extension\n",
    "                    print(attachment.FileName)\n",
    "                    if attachment.FileName.lower().endswith(('.xlsx', '.csv')):\n",
    "                        # Save attachment\n",
    "                        attachment.SaveAsFile(os.path.join(save_path, attachment.FileName))\n",
    "                        print(f\"DOWNLOAD:-  Attachment {attachment.FileName} from {message.Subject} saved.\")\n",
    "\n",
    "# Define the folder name, save path, and sender email address\n",
    "folder_name = \"MAIL_AUTO_DATA_DOWNLOAD\"\n",
    "save_path = r\"C:\\Users\\Ratan Kumar Jha\\Desktop\\MAIL_AUTO_DATA_DOWNLOAD\"\n",
    "sender_email = \"/O=EXCHANGELABS/OU=EXCHANGE ADMINISTRATIVE GROUP (FYDIBOHF23SPDLT)/CN=RECIPIENTS/CN=9D1930D485AF4D0DBF56C07B289000FC-2739C1E2-77\"\n",
    "\n",
    "# Call the function\n",
    "save_attachments_from_specific_sender(folder_name, save_path, sender_email)\n"
   ]
  },
  {
   "cell_type": "code",
   "execution_count": null,
   "metadata": {},
   "outputs": [],
   "source": []
  },
  {
   "cell_type": "code",
   "execution_count": null,
   "metadata": {},
   "outputs": [],
   "source": []
  },
  {
   "cell_type": "code",
   "execution_count": null,
   "metadata": {},
   "outputs": [],
   "source": []
  },
  {
   "cell_type": "code",
   "execution_count": null,
   "metadata": {},
   "outputs": [],
   "source": []
  },
  {
   "cell_type": "markdown",
   "metadata": {},
   "source": [
    "# for fetch the folder name in mail"
   ]
  },
  {
   "cell_type": "code",
   "execution_count": 11,
   "metadata": {},
   "outputs": [
    {
     "name": "stdout",
     "output_type": "stream",
     "text": [
      "Available folders:\n",
      "Deleted Items\n",
      "Inbox\n",
      "Outbox\n",
      "Sent Items\n",
      "Files\n",
      "EventCheckPoints\n",
      "Tasks\n",
      "Junk Email\n",
      "Drafts\n",
      "Conversation History\n",
      "Calendar\n",
      "Yammer Root\n",
      "VPN OTP\n",
      "Contacts\n",
      "Sync Issues\n",
      "Social Activity Notifications\n",
      "RSS Feeds\n",
      "Notes\n",
      "Journal\n",
      "ExternalContacts\n",
      "Conversation Action Settings\n",
      "Archive\n",
      "Quick Step Settings\n",
      "Data connectivity\n",
      "Payroll support mail\n",
      "Error accessing folder: (-2147352567, 'Exception occurred.', (4096, 'Microsoft Outlook', 'The attempted operation failed.  An object could not be found.', None, 0, -2147221233), None)\n"
     ]
    }
   ],
   "source": [
    "# this code is providing all teh folder in mail\n",
    "\n",
    "import os\n",
    "import win32com.client\n",
    "\n",
    "def list_folders(account):\n",
    "    for folder in account.Folders:\n",
    "        print(folder.Name)\n",
    "\n",
    "def save_attachments_from_specific_sender(folder_name, save_path, sender_email):\n",
    "    # Create Outlook application object\n",
    "    outlook = win32com.client.Dispatch(\"Outlook.Application\").GetNamespace(\"MAPI\")\n",
    "\n",
    "    # Access the account\n",
    "    account = outlook.Folders.Item(\"ratan.jha@edfin-india.com\")\n",
    "    \n",
    "    # List all folders to verify the folder name\n",
    "    print(\"Available folders:\")\n",
    "    list_folders(account)\n",
    "\n",
    "    # Select the folder within the account\n",
    "    try:\n",
    "        target_folder = account.Folders.Item(folder_name)\n",
    "    except Exception as e:\n",
    "        print(f\"Error accessing folder: {e}\")\n",
    "        return\n",
    "\n",
    "    messages = target_folder.Items\n",
    "\n",
    "    # Loop through messages\n",
    "  \n",
    "\n",
    "# Define the folder name, save path, and sender email address\n",
    "folder_name = \"MAIL_AUTO_DATA_DOWNLOAD\"\n",
    "save_path = r\"C:\\Users\\Ratan Kumar Jha\\Desktop\"\n",
    "sender_email = \"karan.gauba@edfin-india.com\"\n",
    "\n",
    "# Call the function\n",
    "save_attachments_from_specific_sender(folder_name, save_path, sender_email)\n"
   ]
  }
 ],
 "metadata": {
  "kernelspec": {
   "display_name": "Python 3",
   "language": "python",
   "name": "python3"
  },
  "language_info": {
   "codemirror_mode": {
    "name": "ipython",
    "version": 3
   },
   "file_extension": ".py",
   "mimetype": "text/x-python",
   "name": "python",
   "nbconvert_exporter": "python",
   "pygments_lexer": "ipython3",
   "version": "3.9.19"
  }
 },
 "nbformat": 4,
 "nbformat_minor": 2
}
